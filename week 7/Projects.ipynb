{
 "cells": [
  {
   "cell_type": "code",
   "execution_count": 4,
   "id": "d47c5c74",
   "metadata": {},
   "outputs": [
    {
     "name": "stdout",
     "output_type": "stream",
     "text": [
      "Enter your name: Tosin\n",
      "Enter your department: Technical\n"
     ]
    },
    {
     "ename": "KeyError",
     "evalue": "'Name'",
     "output_type": "error",
     "traceback": [
      "\u001b[1;31m---------------------------------------------------------------------------\u001b[0m",
      "\u001b[1;31mKeyError\u001b[0m                                  Traceback (most recent call last)",
      "File \u001b[1;32m~\\anaconda3\\lib\\site-packages\\pandas\\core\\indexes\\base.py:3802\u001b[0m, in \u001b[0;36mIndex.get_loc\u001b[1;34m(self, key, method, tolerance)\u001b[0m\n\u001b[0;32m   3801\u001b[0m \u001b[38;5;28;01mtry\u001b[39;00m:\n\u001b[1;32m-> 3802\u001b[0m     \u001b[38;5;28;01mreturn\u001b[39;00m \u001b[38;5;28;43mself\u001b[39;49m\u001b[38;5;241;43m.\u001b[39;49m\u001b[43m_engine\u001b[49m\u001b[38;5;241;43m.\u001b[39;49m\u001b[43mget_loc\u001b[49m\u001b[43m(\u001b[49m\u001b[43mcasted_key\u001b[49m\u001b[43m)\u001b[49m\n\u001b[0;32m   3803\u001b[0m \u001b[38;5;28;01mexcept\u001b[39;00m \u001b[38;5;167;01mKeyError\u001b[39;00m \u001b[38;5;28;01mas\u001b[39;00m err:\n",
      "File \u001b[1;32m~\\anaconda3\\lib\\site-packages\\pandas\\_libs\\index.pyx:138\u001b[0m, in \u001b[0;36mpandas._libs.index.IndexEngine.get_loc\u001b[1;34m()\u001b[0m\n",
      "File \u001b[1;32m~\\anaconda3\\lib\\site-packages\\pandas\\_libs\\index.pyx:165\u001b[0m, in \u001b[0;36mpandas._libs.index.IndexEngine.get_loc\u001b[1;34m()\u001b[0m\n",
      "File \u001b[1;32mpandas\\_libs\\hashtable_class_helper.pxi:5745\u001b[0m, in \u001b[0;36mpandas._libs.hashtable.PyObjectHashTable.get_item\u001b[1;34m()\u001b[0m\n",
      "File \u001b[1;32mpandas\\_libs\\hashtable_class_helper.pxi:5753\u001b[0m, in \u001b[0;36mpandas._libs.hashtable.PyObjectHashTable.get_item\u001b[1;34m()\u001b[0m\n",
      "\u001b[1;31mKeyError\u001b[0m: 'Name'",
      "\nThe above exception was the direct cause of the following exception:\n",
      "\u001b[1;31mKeyError\u001b[0m                                  Traceback (most recent call last)",
      "Cell \u001b[1;32mIn[4], line 22\u001b[0m\n\u001b[0;32m     20\u001b[0m name \u001b[38;5;241m=\u001b[39m \u001b[38;5;28minput\u001b[39m(\u001b[38;5;124m\"\u001b[39m\u001b[38;5;124mEnter your name: \u001b[39m\u001b[38;5;124m\"\u001b[39m)\n\u001b[0;32m     21\u001b[0m department \u001b[38;5;241m=\u001b[39m \u001b[38;5;28minput\u001b[39m(\u001b[38;5;124m\"\u001b[39m\u001b[38;5;124mEnter your department: \u001b[39m\u001b[38;5;124m\"\u001b[39m)\n\u001b[1;32m---> 22\u001b[0m \u001b[43mverify_employee\u001b[49m\u001b[43m(\u001b[49m\u001b[43mname\u001b[49m\u001b[43m,\u001b[49m\u001b[43m \u001b[49m\u001b[43mdepartment\u001b[49m\u001b[43m)\u001b[49m\n",
      "Cell \u001b[1;32mIn[4], line 8\u001b[0m, in \u001b[0;36mverify_employee\u001b[1;34m(name, department)\u001b[0m\n\u001b[0;32m      5\u001b[0m employee_data \u001b[38;5;241m=\u001b[39m pd\u001b[38;5;241m.\u001b[39mread_csv(\u001b[38;5;124m\"\u001b[39m\u001b[38;5;124mjt-ventures.csv\u001b[39m\u001b[38;5;124m\"\u001b[39m)\n\u001b[0;32m      7\u001b[0m \u001b[38;5;66;03m# Filter the employee data based on name and department\u001b[39;00m\n\u001b[1;32m----> 8\u001b[0m filtered_data \u001b[38;5;241m=\u001b[39m employee_data[(\u001b[43memployee_data\u001b[49m\u001b[43m[\u001b[49m\u001b[38;5;124;43m\"\u001b[39;49m\u001b[38;5;124;43mName\u001b[39;49m\u001b[38;5;124;43m\"\u001b[39;49m\u001b[43m]\u001b[49m \u001b[38;5;241m==\u001b[39m name) \u001b[38;5;241m&\u001b[39m (employee_data[\u001b[38;5;124m\"\u001b[39m\u001b[38;5;124mDepartment\u001b[39m\u001b[38;5;124m\"\u001b[39m] \u001b[38;5;241m==\u001b[39m department)]\n\u001b[0;32m     10\u001b[0m \u001b[38;5;28;01mif\u001b[39;00m \u001b[38;5;28mlen\u001b[39m(filtered_data) \u001b[38;5;241m>\u001b[39m \u001b[38;5;241m0\u001b[39m:\n\u001b[0;32m     11\u001b[0m     \u001b[38;5;66;03m# Employee exists, display welcome message and company profile\u001b[39;00m\n\u001b[0;32m     12\u001b[0m     \u001b[38;5;28mprint\u001b[39m(\u001b[38;5;124mf\u001b[39m\u001b[38;5;124m\"\u001b[39m\u001b[38;5;124mWelcome, \u001b[39m\u001b[38;5;132;01m{\u001b[39;00mname\u001b[38;5;132;01m}\u001b[39;00m\u001b[38;5;124m from \u001b[39m\u001b[38;5;132;01m{\u001b[39;00mdepartment\u001b[38;5;132;01m}\u001b[39;00m\u001b[38;5;124m department!\u001b[39m\u001b[38;5;124m\"\u001b[39m)\n",
      "File \u001b[1;32m~\\anaconda3\\lib\\site-packages\\pandas\\core\\frame.py:3807\u001b[0m, in \u001b[0;36mDataFrame.__getitem__\u001b[1;34m(self, key)\u001b[0m\n\u001b[0;32m   3805\u001b[0m \u001b[38;5;28;01mif\u001b[39;00m \u001b[38;5;28mself\u001b[39m\u001b[38;5;241m.\u001b[39mcolumns\u001b[38;5;241m.\u001b[39mnlevels \u001b[38;5;241m>\u001b[39m \u001b[38;5;241m1\u001b[39m:\n\u001b[0;32m   3806\u001b[0m     \u001b[38;5;28;01mreturn\u001b[39;00m \u001b[38;5;28mself\u001b[39m\u001b[38;5;241m.\u001b[39m_getitem_multilevel(key)\n\u001b[1;32m-> 3807\u001b[0m indexer \u001b[38;5;241m=\u001b[39m \u001b[38;5;28;43mself\u001b[39;49m\u001b[38;5;241;43m.\u001b[39;49m\u001b[43mcolumns\u001b[49m\u001b[38;5;241;43m.\u001b[39;49m\u001b[43mget_loc\u001b[49m\u001b[43m(\u001b[49m\u001b[43mkey\u001b[49m\u001b[43m)\u001b[49m\n\u001b[0;32m   3808\u001b[0m \u001b[38;5;28;01mif\u001b[39;00m is_integer(indexer):\n\u001b[0;32m   3809\u001b[0m     indexer \u001b[38;5;241m=\u001b[39m [indexer]\n",
      "File \u001b[1;32m~\\anaconda3\\lib\\site-packages\\pandas\\core\\indexes\\base.py:3804\u001b[0m, in \u001b[0;36mIndex.get_loc\u001b[1;34m(self, key, method, tolerance)\u001b[0m\n\u001b[0;32m   3802\u001b[0m     \u001b[38;5;28;01mreturn\u001b[39;00m \u001b[38;5;28mself\u001b[39m\u001b[38;5;241m.\u001b[39m_engine\u001b[38;5;241m.\u001b[39mget_loc(casted_key)\n\u001b[0;32m   3803\u001b[0m \u001b[38;5;28;01mexcept\u001b[39;00m \u001b[38;5;167;01mKeyError\u001b[39;00m \u001b[38;5;28;01mas\u001b[39;00m err:\n\u001b[1;32m-> 3804\u001b[0m     \u001b[38;5;28;01mraise\u001b[39;00m \u001b[38;5;167;01mKeyError\u001b[39;00m(key) \u001b[38;5;28;01mfrom\u001b[39;00m \u001b[38;5;21;01merr\u001b[39;00m\n\u001b[0;32m   3805\u001b[0m \u001b[38;5;28;01mexcept\u001b[39;00m \u001b[38;5;167;01mTypeError\u001b[39;00m:\n\u001b[0;32m   3806\u001b[0m     \u001b[38;5;66;03m# If we have a listlike key, _check_indexing_error will raise\u001b[39;00m\n\u001b[0;32m   3807\u001b[0m     \u001b[38;5;66;03m#  InvalidIndexError. Otherwise we fall through and re-raise\u001b[39;00m\n\u001b[0;32m   3808\u001b[0m     \u001b[38;5;66;03m#  the TypeError.\u001b[39;00m\n\u001b[0;32m   3809\u001b[0m     \u001b[38;5;28mself\u001b[39m\u001b[38;5;241m.\u001b[39m_check_indexing_error(key)\n",
      "\u001b[1;31mKeyError\u001b[0m: 'Name'"
     ]
    }
   ],
   "source": [
    "import pandas as pd\n",
    "\n",
    "def verify_employee(name, department):\n",
    "    # Load the employee data from CSV file\n",
    "    employee_data = pd.read_csv(\"jt-ventures.csv\")\n",
    "    \n",
    "    # Filter the employee data based on name and department\n",
    "    filtered_data = employee_data[(employee_data[\"Name\"] == name) & (employee_data[\"Department\"] == department)]\n",
    "    \n",
    "    if len(filtered_data) > 0:\n",
    "        # Employee exists, display welcome message and company profile\n",
    "        print(f\"Welcome, {name} from {department} department!\")\n",
    "        print(\"Here is a brief overview of JT Ventures:\")\n",
    "        print(employee_data[\"Company Profile\"][0])\n",
    "    else:\n",
    "        # Employee does not exist\n",
    "        print(f\"Sorry, {name} from {department} department is not an employee of JT Ventures.\")\n",
    "\n",
    "# Example usage\n",
    "name = input(\"Enter your name: \")\n",
    "department = input(\"Enter your department: \")\n",
    "verify_employee(name, department)"
   ]
  },
  {
   "cell_type": "code",
   "execution_count": 5,
   "id": "20b74115",
   "metadata": {},
   "outputs": [],
   "source": [
    "def calculate_delivery_charge(location, weight):\n",
    "    if location == \"Ibeju-Lekki\":\n",
    "        if weight >= 10:\n",
    "            return 2000\n",
    "        else:\n",
    "            return 1500\n",
    "    elif location == \"Epe\":\n",
    "        if weight >= 10:\n",
    "            return 5000\n",
    "        else:\n",
    "            return 4000\n",
    "    else:\n",
    "        # Invalid location\n",
    "        return None"
   ]
  },
  {
   "cell_type": "code",
   "execution_count": 3,
   "id": "b04f199e",
   "metadata": {},
   "outputs": [],
   "source": [
    "\n",
    "import pandas as pd\n",
    "\n",
    "def admission_checker(department):\n",
    "    jamb_score = int(input(\"Enter your JAMB score: \"))\n",
    "    math_grade = input(\"Enter your grade in Mathematics: \")\n",
    "    english_grade = input(\"Enter your grade in English Language: \")\n",
    "    biology_grade = input(\"Enter your grade in Biology: \")\n",
    "    physics_grade = input(\"Enter your grade in Physics: \")\n",
    "    \n",
    "    if department == \"Computer Science\" and jamb_score >= 230 and math_grade in [\"A\", \"B\", \"C\"] and english_grade in [\"A\", \"B\", \"C\"] and biology_grade in [\"A\", \"B\", \"C\"] and physics_grade in [\"A\", \"B\", \"C\"]:\n",
    "        print(\"Congratulations! You have been admitted into the Computer Science Department.\")\n",
    "        admitted = pd.DataFrame({\n",
    "            \"JAMB Score\": [jamb_score],\n",
    "            \"Math Grade\": [math_grade],\n",
    "            \"English Grade\": [english_grade],\n",
    "            \"Biology Grade\": [biology_grade],\n",
    "            \"Physics Grade\": [physics_grade]\n",
    "        })\n",
    "        admitted.to_csv(\"admitted.csv\", mode='a', header=not bool(pd.read_csv(\"admitted.csv\").shape[0]))\n",
    "    elif department == \"Mass Communication\" and jamb_score >= 220 and math_grade in [\"A\", \"B\", \"C\"] and english_grade in [\"A\", \"B\", \"C\"] and biology_grade in [\"A\", \"B\", \"C\"] and physics_grade in [\"A\", \"B\", \"C\"]:\n",
    "        print(\"Congratulations! You have been admitted into the Mass Communication Department.\")\n",
    "        admitted = pd.DataFrame({\n",
    "            \"JAMB Score\": [jamb_score],\n",
    "            \"Math Grade\": [math_grade],\n",
    "            \"English Grade\": [english_grade],\n",
    "            \"Biology Grade\": [biology_grade],\n",
    "            \"Physics Grade\": [physics_grade]\n",
    "        })\n",
    "        admitted.to_csv(\"admitted.csv\", mode='a', header=not bool(pd.read_csv(\"admitted.csv\").shape[0]))\n",
    "    else:\n",
    "        print(\"Sorry, you did not meet the requirements for admission into the \" + department + \" Department.\")\n",
    "        not_admitted = pd.DataFrame({\n",
    "            \"JAMB Score\": [jamb_score],\n",
    "            \"Math Grade\": [math_grade],\n",
    "            \"English Grade\": [english_grade],\n",
    "            \"Biology Grade\": [biology_grade],\n",
    "            \"Physics Grade\": [physics_grade]\n",
    "        })\n",
    "        not_admitted.to_csv(\"not-admitted.csv\", mode='a', header=not bool(pd.read_csv(\"not-admitted.csv\").shape[0]))"
   ]
  },
  {
   "cell_type": "code",
   "execution_count": null,
   "id": "c22dcccc",
   "metadata": {},
   "outputs": [],
   "source": []
  }
 ],
 "metadata": {
  "kernelspec": {
   "display_name": "Python 3 (ipykernel)",
   "language": "python",
   "name": "python3"
  },
  "language_info": {
   "codemirror_mode": {
    "name": "ipython",
    "version": 3
   },
   "file_extension": ".py",
   "mimetype": "text/x-python",
   "name": "python",
   "nbconvert_exporter": "python",
   "pygments_lexer": "ipython3",
   "version": "3.10.9"
  }
 },
 "nbformat": 4,
 "nbformat_minor": 5
}
