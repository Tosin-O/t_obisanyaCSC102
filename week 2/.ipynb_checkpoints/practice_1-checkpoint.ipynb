{
 "cells": [
  {
   "cell_type": "code",
   "execution_count": null,
   "id": "6af6f4e7",
   "metadata": {},
   "outputs": [],
   "source": [
    "# Integer number\n",
    "num = 100\n",
    "print(num)\n",
    "print(\"Data Type of variable num is\", type(num))\n",
    "\n",
    "#float number\n",
    "fnum = 34.45\n",
    "print(fnum)\n",
    "print(\"Data type of variable fnum is\", type(fnum))\n",
    "\n",
    "# complex number\n",
    "cnum = 3 + 4j\n",
    "print(cnum)\n",
    "print(\"Data type of variable cnum is\", type(cnum))"
   ]
  }
 ],
 "metadata": {
  "kernelspec": {
   "display_name": "Python 3 (ipykernel)",
   "language": "python",
   "name": "python3"
  },
  "language_info": {
   "codemirror_mode": {
    "name": "ipython",
    "version": 3
   },
   "file_extension": ".py",
   "mimetype": "text/x-python",
   "name": "python",
   "nbconvert_exporter": "python",
   "pygments_lexer": "ipython3",
   "version": "3.10.9"
  }
 },
 "nbformat": 4,
 "nbformat_minor": 5
}
