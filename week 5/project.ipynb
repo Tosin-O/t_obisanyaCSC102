{
 "cells": [
  {
   "cell_type": "code",
   "execution_count": 1,
   "id": "36678280",
   "metadata": {},
   "outputs": [
    {
     "name": "stdout",
     "output_type": "stream",
     "text": [
      "The name,age,height,score of all the students would be shown in the format below\n",
      "The girl's data is first followed by the boys\n",
      "Name  |Age|Height|Score\n",
      "\n",
      "\n",
      "Samantha 17 5.5 80\n",
      "Jada 16 6.0 85\n",
      "Jane 17 5.4 70\n",
      "Claire 18 5.9 60\n",
      "Elizabeth 16 5.6 76\n",
      "Mary 18 5.5 66\n",
      "Susan 17 6.1 87\n",
      "Waje 20 6.0 95\n",
      "Taibat 19 5.7 50\n",
      "Lillian 17 5.5 49\n",
      "\n",
      "\n",
      "Charles 19 5.7 74\n",
      "Jude 16 5.9 87\n",
      "James 18 5.8 75\n",
      "Kevin 17 6.1 68\n",
      "Biodun 20 5.9 66\n",
      "Wale 19 5.5 78\n",
      "Kunle 16 6.1 87\n",
      "Matthew 18 5.4 98\n",
      "Tom 17 5.8 54\n",
      "Kayode 19 5.7 60\n"
     ]
    }
   ],
   "source": [
    "# Project 1\n",
    "g_names = ['Samantha','Jada','Jane','Claire','Elizabeth','Mary',\n",
    "             'Susan','Waje','Taibat','Lillian']\n",
    "g_age = [17,16,17,18,16,18,17,20,19,17]\n",
    "g_height = [5.5,6.0,5.4,5.9,5.6,5.5,6.1,6.0,5.7,5.5]\n",
    "g_scores = [80,85,70,60,76,66,87,95,50,49]\n",
    "\n",
    "b_names = ['Charles','Jude','James','Kevin','Biodun','Wale',\n",
    "           'Kunle','Matthew','Tom','Kayode']\n",
    "b_age = [19,16,18,17,20,19,16,18,17,19]\n",
    "b_height = [5.7,5.9,5.8,6.1,5.9,5.5,6.1,5.4,5.8,5.7]\n",
    "b_scores = [74,87,75,68,66,78,87,98,54,60]\n",
    "\n",
    "print(\"The name,age,height,score of all the students would be shown in the format below\")\n",
    "print(\"The girl's data is first followed by the boys\")\n",
    "print(\"Name  |Age|Height|Score\")\n",
    "print(\"\\n\")\n",
    " \n",
    "for i in range(10):\n",
    "    print(g_names[i],g_age[i],g_height[i],g_scores[i])\n",
    "    \n",
    "print(\"\\n\")\n",
    "    \n",
    "for i in range(10):\n",
    "    print(b_names[i],b_age[i],b_height[i],b_scores[i])"
   ]
  },
  {
   "cell_type": "code",
   "execution_count": null,
   "id": "202009cd",
   "metadata": {},
   "outputs": [],
   "source": [
    "# Project 2\n",
    "for i in range(2500):\n",
    "    years_of_experience = int(input(\"Your years of experience is: \"))\n",
    "    age = int(input(\"Your age is: \"))\n",
    "    if age >= 55 & years_of_experience > 25:\n",
    "        print(\"Your Annual Tax Revenue is N5,600,00\")\n",
    "    elif age >= 45 & years_of_experience > 20:\n",
    "        print(\"Your Annual Tax Revenue is N4,480,00\")\n",
    "    elif age >= 35 & years_of_experience > 10:\n",
    "        print(\"Your Annual Tax Revenue is N1,500,00\")\n",
    "    elif age > 35 & years_of_experience < 10:\n",
    "        print(\"Your Annual Tax Revenue is N550,00\")\n",
    "    else:\n",
    "        print(\"Invalid\")\n",
    "        \n",
    "    \n",
    "    \n"
   ]
  },
  {
   "cell_type": "code",
   "execution_count": null,
   "id": "a592d246",
   "metadata": {},
   "outputs": [],
   "source": []
  },
  {
   "cell_type": "code",
   "execution_count": null,
   "id": "31f1de5c",
   "metadata": {},
   "outputs": [],
   "source": []
  }
 ],
 "metadata": {
  "kernelspec": {
   "display_name": "Python 3 (ipykernel)",
   "language": "python",
   "name": "python3"
  },
  "language_info": {
   "codemirror_mode": {
    "name": "ipython",
    "version": 3
   },
   "file_extension": ".py",
   "mimetype": "text/x-python",
   "name": "python",
   "nbconvert_exporter": "python",
   "pygments_lexer": "ipython3",
   "version": "3.10.9"
  }
 },
 "nbformat": 4,
 "nbformat_minor": 5
}
