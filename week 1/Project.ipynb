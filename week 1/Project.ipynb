{
 "cells": [
  {
   "cell_type": "code",
   "execution_count": 1,
   "id": "bd9b93f3",
   "metadata": {},
   "outputs": [
    {
     "name": "stdout",
     "output_type": "stream",
     "text": [
      "This is a program used to calculate simple interest\n",
      "Please input all the necessary parameters\n",
      "Principal is 2000\n",
      "rate in decimal is 0.6\n",
      "Amount of years is 4\n",
      "The simple interst is  2259.2\n"
     ]
    }
   ],
   "source": [
    "print(\"This is a program used to calculate simple interest\")\n",
    "\n",
    "#input all the parameters\n",
    "print(\"Please input all the necessary parameters\")\n",
    "\n",
    "p = int(input(\"Principal is \"))\n",
    "r = float(input(\"rate in decimal is \"))\n",
    "t = int(input(\"Amount of years is \"))\n",
    "\n",
    "#formula\n",
    "si = (p * (1 + ((r)**t)))\n",
    "print(\"The simple interst is \", si)"
   ]
  },
  {
   "cell_type": "code",
   "execution_count": 5,
   "id": "8691b7a5",
   "metadata": {},
   "outputs": [
    {
     "name": "stdout",
     "output_type": "stream",
     "text": [
      "This program is used to calculate compound interest\n",
      "Please input all the necessary parameters\n",
      "What is your starting principal? 10000\n",
      "What is your annual percentage rate as a decimal? 0.08\n",
      "The number of compunding periods per year is 4\n",
      "What is the total number of years? 1\n",
      "The total amount gotten is  10824.3216\n"
     ]
    }
   ],
   "source": [
    "print(\"This program is used to calculate compound interest\")\n",
    "\n",
    "print(\"Please input all the necessary parameters\")\n",
    "\n",
    "\n",
    "p = int(input(\"What is your starting principal? \"))\n",
    "r = float(input(\"What is your annual percentage rate as a decimal? \"))\n",
    "n = int(input(\"The number of compunding periods per year is \"))\n",
    "t = int(input(\"What is the total number of years? \"))\n",
    "\n",
    "A = p * ((1 + (r/n))**(n * t))\n",
    "print(\"The total amount gotten is \", A)"
   ]
  },
  {
   "cell_type": "code",
   "execution_count": 6,
   "id": "25e17502",
   "metadata": {},
   "outputs": [
    {
     "name": "stdout",
     "output_type": "stream",
     "text": [
      "This program is used to calculate the total amount earned from an annuity plan. \n",
      "Please input the necessary parameters\n",
      "Insert your regular deposit amount 10000\n",
      "Input your annual percentage rate as a decimal 0.08\n",
      "What is the number of payment periods per year? 4\n",
      "What is the total number of years? 1\n",
      "The total accumulated annuity plan balance is  41216.07999999999\n"
     ]
    }
   ],
   "source": [
    "print(\"This program is used to calculate the total amount earned from an annuity plan. \")\n",
    "\n",
    "print(\"Please input the necessary parameters\")\n",
    "\n",
    "pmt = int(input(\"Insert your regular deposit amount \"))\n",
    "r = float(input(\"Input your annual percentage rate as a decimal \"))\n",
    "n = int(input(\"What is the number of payment periods per year? \"))\n",
    "t = int(input(\"What is the total number of years? \"))\n",
    "\n",
    "A = pmt * ((((1 + (r/n))**(n * t)) - 1)/(r/n))\n",
    "\n",
    "print(\"The total accumulated annuity plan balance is \", A)"
   ]
  },
  {
   "cell_type": "code",
   "execution_count": null,
   "id": "1f818bb4",
   "metadata": {},
   "outputs": [],
   "source": []
  }
 ],
 "metadata": {
  "kernelspec": {
   "display_name": "Python 3 (ipykernel)",
   "language": "python",
   "name": "python3"
  },
  "language_info": {
   "codemirror_mode": {
    "name": "ipython",
    "version": 3
   },
   "file_extension": ".py",
   "mimetype": "text/x-python",
   "name": "python",
   "nbconvert_exporter": "python",
   "pygments_lexer": "ipython3",
   "version": "3.10.9"
  }
 },
 "nbformat": 4,
 "nbformat_minor": 5
}
